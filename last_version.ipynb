{
 "cells": [
  {
   "cell_type": "markdown",
   "id": "fe66b195",
   "metadata": {},
   "source": [
    "## Unsupervised BGM and soft voting for initial labelling (Score ~ 60.7%) followed by iterative runs of supervised BGM classifier (current best ~81.19%)"
   ]
  },
  {
   "cell_type": "code",
   "execution_count": 1,
   "id": "7aebbb53",
   "metadata": {},
   "outputs": [],
   "source": [
    "import numpy as np\n",
    "import pandas as pd\n",
    "from tqdm import tqdm\n",
    "from sklearn.mixture import GaussianMixture, BayesianGaussianMixture\n",
    "from sklearn.preprocessing import PowerTransformer\n",
    "import pylab as pl\n",
    "from sklego.mixture import BayesianGMMClassifier"
   ]
  },
  {
   "cell_type": "code",
   "execution_count": 3,
   "id": "ee7b2258",
   "metadata": {},
   "outputs": [],
   "source": [
    "n_rows = 98000\n",
    "n_clusters = 7\n",
    "\n",
    "known = pd.read_csv(\"reference_submission.csv\", index_col=0).iloc[:, 0].values\n",
    "\n",
    "data = pd.read_csv('data.csv', index_col=0)\n",
    "useful_cols = ['f_07','f_08','f_09','f_10','f_11','f_12','f_13',\n",
    "             'f_22','f_23','f_24','f_25','f_26','f_27','f_28']\n",
    "data = data[useful_cols]\n",
    "\n",
    "data = PowerTransformer().fit_transform(data)"
   ]
  },
  {
   "cell_type": "code",
   "execution_count": 3,
   "id": "775cef72",
   "metadata": {},
   "outputs": [
    {
     "name": "stderr",
     "output_type": "stream",
     "text": [
      "100%|██████████████████████████████████████████████████████████████████████████████████| 20/20 [11:07<00:00, 33.35s/it]\n"
     ]
    }
   ],
   "source": [
    "all_labels = []\n",
    "all_probs = []\n",
    "\n",
    "base = 1301\n",
    "for seed in tqdm(range(20)):\n",
    "    np.random.seed(seed + base * 20)\n",
    "    subspace = data[np.random.random(size=(n_rows,)) < 0.5, :]\n",
    " \n",
    "    gmm = BayesianGaussianMixture(\n",
    "            n_components = n_clusters,\n",
    "            random_state = seed + base * 20,\n",
    "            tol = 0.001,  # Actually, since we're ensembling we might want a higher tol\n",
    "            max_iter = 200, # and a low max_iter! Because noise is our friend.\n",
    "            n_init = 4)\n",
    "    gmm.fit(subspace)\n",
    "\n",
    "    all_labels.append(gmm.predict(data))\n",
    "    all_probs.append(gmm.predict_proba(data))"
   ]
  },
  {
   "cell_type": "code",
   "execution_count": 4,
   "id": "0b0822a7",
   "metadata": {},
   "outputs": [],
   "source": [
    "hard_accumulator = np.zeros(shape=(n_rows, n_clusters), dtype=np.int32)\n",
    "soft_accumulator = np.zeros(shape=(n_rows, n_clusters), dtype=np.float32)\n",
    "soft_soft_accumulator = np.zeros(shape=(n_rows, n_clusters), dtype=np.float32)\n",
    "\n",
    "for model_i, labels in enumerate(all_labels):\n",
    "    probs = all_probs[model_i]\n",
    "    \n",
    "    # We create a small n_cluster x n_cluster matrix to store which\n",
    "    # cluster corresponds to which, compared to the known good clustering.\n",
    "    clusters = np.zeros(shape = (n_clusters, n_clusters), dtype=int)\n",
    "    for n1, n2 in zip(labels, known):\n",
    "        clusters[n1, n2] += 1\n",
    "\n",
    "    hard_clusters = np.argmax(clusters, axis=1)\n",
    "    hard_dict = {i: c for i, c in enumerate(hard_clusters)}\n",
    "    hard_result = np.vectorize(hard_dict.__getitem__)(labels)\n",
    "    hard_accumulator[np.arange(n_rows), hard_result] += 1\n",
    "    \n",
    "    # soft\n",
    "    soft_clusters = clusters / np.sum(clusters, axis=1).reshape(-1, 1)\n",
    "    soft_result = soft_clusters[labels]\n",
    "    soft_accumulator += soft_clusters[labels]\n",
    "\n",
    "    # extra soft\n",
    "    soft_soft_accumulator += np.matmul(probs, soft_clusters)"
   ]
  },
  {
   "cell_type": "code",
   "execution_count": 5,
   "id": "61081889",
   "metadata": {},
   "outputs": [],
   "source": [
    "# hard_result = np.argmax(hard_accumulator, axis=1)\n",
    "# soft_result = np.argmax(soft_accumulator, axis=1)\n",
    "soft_soft_result = np.argmax(soft_soft_accumulator, axis=1)\n",
    "\n",
    "pd.DataFrame(soft_soft_result).to_csv('bgm_unsupervised_submission.csv', index_label='Id', header=['Predicted'])"
   ]
  },
  {
   "cell_type": "markdown",
   "id": "1a0359a2",
   "metadata": {},
   "source": [
    "## Supervised BGM classifier using the best predictions"
   ]
  },
  {
   "cell_type": "code",
   "execution_count": 1,
   "id": "c561aaca",
   "metadata": {},
   "outputs": [],
   "source": [
    "import pandas as pd\n",
    "import numpy as np\n",
    "from tqdm import tqdm\n",
    "\n",
    "# For Visualization\n",
    "import matplotlib.pyplot as plt\n",
    "import seaborn as sns\n",
    "\n",
    "from sklearn.mixture import BayesianGaussianMixture\n",
    "from sklego.mixture import BayesianGMMClassifier\n",
    "from sklearn.preprocessing import PowerTransformer\n",
    "\n",
    "%matplotlib inline\n",
    "\n",
    "\n",
    "import torch\n",
    "from torch import nn\n",
    "from torch.utils.data import Dataset, DataLoader, random_split\n",
    "from torch import optim\n",
    "from torch.optim.lr_scheduler import ReduceLROnPlateau\n",
    "\n",
    "from tqdm import tqdm\n",
    "import os\n",
    "\n",
    "import torch.nn.functional as F"
   ]
  },
  {
   "cell_type": "code",
   "execution_count": 2,
   "id": "b264597b",
   "metadata": {},
   "outputs": [],
   "source": [
    "data = pd.read_csv(\"data.csv\", index_col='id')\n",
    "submission = pd.read_csv(\"sample_submission.csv\")\n",
    "\n",
    "# pred_test = pd.read_csv(\"bgm_unsupervised_submission.csv\", usecols=['Predicted']).values\n",
    "pred_test = pd.read_csv(\"bgm_supervised_classifier_soft_voting_fifth_rec.csv\", usecols=['Predicted']).values\n",
    "pred_test = [a.item() for a in pred_test]\n",
    "\n",
    "known = pd.read_csv(\"bgm_supervised_classifier_soft_voting_fifth_rec.csv\", usecols=['Predicted']).values\n",
    "\n",
    "useful_cols = ['f_07','f_08','f_09','f_10','f_11','f_12','f_13',\n",
    "             'f_22','f_23','f_24','f_25','f_26','f_27','f_28']\n",
    "\n",
    "data = data[useful_cols]\n",
    "data = PowerTransformer().fit_transform(data)"
   ]
  },
  {
   "cell_type": "code",
   "execution_count": 3,
   "id": "48abfc6b",
   "metadata": {},
   "outputs": [],
   "source": [
    "# Set Static variables\n",
    "random_state = 2\n",
    "#n_folds = 10\n",
    "n_components = 7\n",
    "verbose = 500\n",
    "os.environ['PYTHONHASHSEED'] = str(random_state)\n",
    "os.environ[\"CUDA_LAUNCH_BLOCKING\"] = \"1\"\n",
    "np.random.seed(random_state)\n",
    "BEST_CLASS_THRESHOLD = 0.87\n",
    "\n",
    "NUM_EPOCHS = 20\n",
    "LEARNING_RATE = 1e-2\n",
    "DEVICE = \"cuda\" if torch.cuda.is_available() else \"cpu\"\n",
    "BATCH_SIZE = 2000\n",
    "NUM_WORKERS = 2"
   ]
  },
  {
   "cell_type": "code",
   "execution_count": 4,
   "id": "f3d166df",
   "metadata": {},
   "outputs": [],
   "source": [
    "X = np.array(data)\n",
    "y = np.array(pred_test)"
   ]
  },
  {
   "cell_type": "code",
   "execution_count": 5,
   "id": "cebdbcf1",
   "metadata": {},
   "outputs": [
    {
     "name": "stderr",
     "output_type": "stream",
     "text": [
      "100%|██████████████████████████████████████████████████████████████████████████████████| 10/10 [07:56<00:00, 47.68s/it]\n"
     ]
    }
   ],
   "source": [
    "all_labels = []\n",
    "all_probs = []\n",
    "\n",
    "is_sampling = False\n",
    "only_cleanest = False\n",
    "\n",
    "for seed in tqdm(range(10)):\n",
    "    np.random.seed(seed * 31 + 37 )\n",
    "    bgm = BayesianGMMClassifier(\n",
    "        n_components=7,\n",
    "        random_state = seed,\n",
    "        tol =3e-4,\n",
    "        covariance_type = 'full',\n",
    "        max_iter = 300,\n",
    "        n_init=3,\n",
    "        init_params='k-means++'\n",
    "    )\n",
    "    \n",
    "    if is_sampling:\n",
    "        p = 0.6\n",
    "        mask = np.random.choice(a=[True, False], size=len(y), p=[p, 1-p])\n",
    "        sampled_X = X[mask]\n",
    "        sampled_y = y[mask]\n",
    "        \n",
    "    if only_cleanest:\n",
    "        clean_X = X[cleanest_samples]\n",
    "        clean_y = y[cleanest_samples]\n",
    "\n",
    "    # fitting and probability prediction\n",
    "    bgm.fit(X, y)\n",
    "    all_labels.append(bgm.predict(X))\n",
    "    all_probs.append(bgm.predict_proba(X))"
   ]
  },
  {
   "cell_type": "code",
   "execution_count": 6,
   "id": "6d80e26f",
   "metadata": {},
   "outputs": [],
   "source": [
    "class LinearLayer(nn.Module):\n",
    "    def __init__(self, in_neurons, out_neurons):\n",
    "        super().__init__()\n",
    "        self.linear = nn.Linear(in_neurons, out_neurons)\n",
    "        self.do = nn.Dropout(p=0.2)\n",
    "        self.bn = nn.BatchNorm1d(out_neurons)\n",
    "        self.act = nn.PReLU()\n",
    "        \n",
    "    def forward(self, x):\n",
    "        return self.bn(self.act(self.do(self.linear(x))))\n",
    "        \n",
    "\n",
    "class NetClassifier(nn.Module):\n",
    "    def __init__(self, in_neurons, hidden_neurons, out_neurons):\n",
    "        super().__init__()\n",
    "        \n",
    "        self.hidden_layers = len(hidden_neurons)\n",
    "          \n",
    "        self.net = nn.Sequential(\n",
    "            LinearLayer(in_neurons, hidden_neurons[0]),\n",
    "            *[LinearLayer(hn, hidden_neurons[i+1]) for i, hn in enumerate(hidden_neurons[:-1])],\n",
    "            nn.Linear(hidden_neurons[-1], out_neurons),\n",
    "        )\n",
    "\n",
    "    def forward(self, x):\n",
    "        return self.net(x)\n",
    "    \n",
    "    \n",
    "def initialize_weights(model):\n",
    "    for m in model.modules():\n",
    "        if isinstance(m, nn.Linear):\n",
    "            nn.init.kaiming_normal_(m.weight.data)\n",
    "            \n",
    "            \n",
    "class MyDataset(Dataset):\n",
    "    def __init__(self, X, y):\n",
    "        super(MyDataset, self).__init__()\n",
    "        self.y = y\n",
    "        self.X = np.float32(X)\n",
    "\n",
    "    def __len__(self):\n",
    "        return len(self.y)\n",
    "\n",
    "    def __getitem__(self, index):\n",
    "        return self.X[index], self.y[index]"
   ]
  },
  {
   "cell_type": "code",
   "execution_count": 38,
   "id": "6a985af4",
   "metadata": {},
   "outputs": [
    {
     "name": "stdout",
     "output_type": "stream",
     "text": [
      "1/20\n"
     ]
    },
    {
     "name": "stderr",
     "output_type": "stream",
     "text": [
      "100%|███████████████████████████████████████████████████████████████████| 49/49 [00:01<00:00, 44.15it/s, L_train=0.514]\n"
     ]
    },
    {
     "name": "stdout",
     "output_type": "stream",
     "text": [
      "2/20\n"
     ]
    },
    {
     "name": "stderr",
     "output_type": "stream",
     "text": [
      "100%|███████████████████████████████████████████████████████████████████| 49/49 [00:01<00:00, 44.15it/s, L_train=0.452]\n"
     ]
    },
    {
     "name": "stdout",
     "output_type": "stream",
     "text": [
      "3/20\n"
     ]
    },
    {
     "name": "stderr",
     "output_type": "stream",
     "text": [
      "100%|███████████████████████████████████████████████████████████████████| 49/49 [00:01<00:00, 44.54it/s, L_train=0.439]\n"
     ]
    },
    {
     "name": "stdout",
     "output_type": "stream",
     "text": [
      "4/20\n"
     ]
    },
    {
     "name": "stderr",
     "output_type": "stream",
     "text": [
      "100%|███████████████████████████████████████████████████████████████████| 49/49 [00:01<00:00, 42.61it/s, L_train=0.416]\n"
     ]
    },
    {
     "name": "stdout",
     "output_type": "stream",
     "text": [
      "5/20\n"
     ]
    },
    {
     "name": "stderr",
     "output_type": "stream",
     "text": [
      "100%|███████████████████████████████████████████████████████████████████| 49/49 [00:01<00:00, 44.95it/s, L_train=0.377]\n"
     ]
    },
    {
     "name": "stdout",
     "output_type": "stream",
     "text": [
      "6/20\n"
     ]
    },
    {
     "name": "stderr",
     "output_type": "stream",
     "text": [
      "100%|███████████████████████████████████████████████████████████████████| 49/49 [00:01<00:00, 44.55it/s, L_train=0.359]\n"
     ]
    },
    {
     "name": "stdout",
     "output_type": "stream",
     "text": [
      "7/20\n"
     ]
    },
    {
     "name": "stderr",
     "output_type": "stream",
     "text": [
      "100%|███████████████████████████████████████████████████████████████████| 49/49 [00:01<00:00, 41.19it/s, L_train=0.359]\n"
     ]
    },
    {
     "name": "stdout",
     "output_type": "stream",
     "text": [
      "8/20\n"
     ]
    },
    {
     "name": "stderr",
     "output_type": "stream",
     "text": [
      "100%|███████████████████████████████████████████████████████████████████| 49/49 [00:01<00:00, 44.95it/s, L_train=0.353]\n"
     ]
    },
    {
     "name": "stdout",
     "output_type": "stream",
     "text": [
      "9/20\n"
     ]
    },
    {
     "name": "stderr",
     "output_type": "stream",
     "text": [
      "100%|███████████████████████████████████████████████████████████████████| 49/49 [00:01<00:00, 45.21it/s, L_train=0.302]\n"
     ]
    },
    {
     "name": "stdout",
     "output_type": "stream",
     "text": [
      "10/20\n"
     ]
    },
    {
     "name": "stderr",
     "output_type": "stream",
     "text": [
      "100%|███████████████████████████████████████████████████████████████████| 49/49 [00:01<00:00, 45.80it/s, L_train=0.348]\n"
     ]
    },
    {
     "name": "stdout",
     "output_type": "stream",
     "text": [
      "11/20\n"
     ]
    },
    {
     "name": "stderr",
     "output_type": "stream",
     "text": [
      "100%|███████████████████████████████████████████████████████████████████| 49/49 [00:01<00:00, 45.71it/s, L_train=0.282]\n"
     ]
    },
    {
     "name": "stdout",
     "output_type": "stream",
     "text": [
      "12/20\n"
     ]
    },
    {
     "name": "stderr",
     "output_type": "stream",
     "text": [
      "100%|███████████████████████████████████████████████████████████████████| 49/49 [00:01<00:00, 46.52it/s, L_train=0.303]\n"
     ]
    },
    {
     "name": "stdout",
     "output_type": "stream",
     "text": [
      "13/20\n"
     ]
    },
    {
     "name": "stderr",
     "output_type": "stream",
     "text": [
      "100%|████████████████████████████████████████████████████████████████████| 49/49 [00:01<00:00, 43.50it/s, L_train=0.31]\n"
     ]
    },
    {
     "name": "stdout",
     "output_type": "stream",
     "text": [
      "14/20\n"
     ]
    },
    {
     "name": "stderr",
     "output_type": "stream",
     "text": [
      "100%|███████████████████████████████████████████████████████████████████| 49/49 [00:01<00:00, 43.75it/s, L_train=0.318]\n"
     ]
    },
    {
     "name": "stdout",
     "output_type": "stream",
     "text": [
      "15/20\n"
     ]
    },
    {
     "name": "stderr",
     "output_type": "stream",
     "text": [
      "100%|███████████████████████████████████████████████████████████████████| 49/49 [00:01<00:00, 42.41it/s, L_train=0.293]\n"
     ]
    },
    {
     "name": "stdout",
     "output_type": "stream",
     "text": [
      "16/20\n"
     ]
    },
    {
     "name": "stderr",
     "output_type": "stream",
     "text": [
      "100%|███████████████████████████████████████████████████████████████████| 49/49 [00:01<00:00, 41.71it/s, L_train=0.301]\n"
     ]
    },
    {
     "name": "stdout",
     "output_type": "stream",
     "text": [
      "17/20\n"
     ]
    },
    {
     "name": "stderr",
     "output_type": "stream",
     "text": [
      "100%|████████████████████████████████████████████████████████████████████| 49/49 [00:01<00:00, 43.96it/s, L_train=0.29]\n"
     ]
    },
    {
     "name": "stdout",
     "output_type": "stream",
     "text": [
      "18/20\n"
     ]
    },
    {
     "name": "stderr",
     "output_type": "stream",
     "text": [
      "100%|███████████████████████████████████████████████████████████████████| 49/49 [00:01<00:00, 44.34it/s, L_train=0.292]\n"
     ]
    },
    {
     "name": "stdout",
     "output_type": "stream",
     "text": [
      "19/20\n"
     ]
    },
    {
     "name": "stderr",
     "output_type": "stream",
     "text": [
      "100%|███████████████████████████████████████████████████████████████████| 49/49 [00:01<00:00, 45.24it/s, L_train=0.282]\n"
     ]
    },
    {
     "name": "stdout",
     "output_type": "stream",
     "text": [
      "20/20\n"
     ]
    },
    {
     "name": "stderr",
     "output_type": "stream",
     "text": [
      "100%|████████████████████████████████████████████████████████████████████| 49/49 [00:01<00:00, 44.15it/s, L_train=0.28]\n"
     ]
    }
   ],
   "source": [
    "def train_fn(train_loader, model, opt, criterion):\n",
    "    train_losses = []\n",
    "    loop = tqdm(train_loader, leave=True)\n",
    "    for x, y in loop:\n",
    "        x = x.to(DEVICE)\n",
    "        y = y.type(torch.LongTensor).to(DEVICE)\n",
    "        pred = model(x)\n",
    "        train_loss = criterion(pred, y)\n",
    "        loop.set_postfix(L_train=train_loss.item())\n",
    "        train_losses.append(train_loss.item())\n",
    "        train_loss.backward()\n",
    "        opt.step()\n",
    "        opt.zero_grad()\n",
    "\n",
    "dataset = MyDataset(X, y)\n",
    "\n",
    "train_loader = DataLoader(\n",
    "    dataset,\n",
    "    batch_size=BATCH_SIZE,\n",
    "    shuffle=True,\n",
    ")\n",
    "\n",
    "model = NetClassifier(len(useful_cols), hidden_neurons=[400, 200, 100], out_neurons=n_components).to(DEVICE)\n",
    "initialize_weights(model)\n",
    "\n",
    "opt = optim.Adam(model.parameters(), lr=LEARNING_RATE)\n",
    "\n",
    "criterion = nn.CrossEntropyLoss()\n",
    "\n",
    "model.train()\n",
    "\n",
    "for epoch in range(1, NUM_EPOCHS + 1):\n",
    "    print(f\"{epoch}/{NUM_EPOCHS}\")\n",
    "    train_fn(train_loader, model, opt, criterion)"
   ]
  },
  {
   "cell_type": "code",
   "execution_count": 39,
   "id": "0cd10b38",
   "metadata": {},
   "outputs": [
    {
     "name": "stdout",
     "output_type": "stream",
     "text": [
      "[[9.9089032e-01 1.3145228e-04 5.4597496e-03 ... 2.2047823e-03\n",
      "  4.3425339e-04 3.5180045e-05]\n",
      " [3.2901572e-04 1.1936335e-03 9.5938474e-01 ... 8.8027584e-05\n",
      "  1.2186040e-02 1.5376454e-02]\n",
      " [2.3112677e-01 8.9340232e-05 3.7147591e-05 ... 7.6863921e-01\n",
      "  1.1304912e-06 1.0814288e-05]\n",
      " ...\n",
      " [4.7953958e-03 8.1950545e-02 4.7498502e-02 ... 8.5627925e-01\n",
      "  2.3144765e-03 6.7678690e-03]\n",
      " [9.6684889e-05 1.4135185e-04 4.4045296e-02 ... 6.1040218e-03\n",
      "  2.4680558e-03 2.9375053e-03]\n",
      " [1.3246571e-02 3.5887833e-06 7.6908131e-05 ... 8.4112150e-07\n",
      "  9.7469610e-01 6.1745604e-06]]\n"
     ]
    }
   ],
   "source": [
    "model.eval()\n",
    "model = model.to(\"cpu\")\n",
    "test = torch.tensor(X, dtype=torch.float32).to(\"cpu\")\n",
    "output = F.softmax(model(test), dim=1)\n",
    "net_probs = output.cpu().detach().numpy()\n",
    "print(net_probs)"
   ]
  },
  {
   "cell_type": "code",
   "execution_count": 7,
   "id": "04cb6ba3",
   "metadata": {},
   "outputs": [],
   "source": [
    "n_rows = len(data)\n",
    "n_clusters = 7\n",
    "\n",
    "hard_accumulator = np.zeros(shape=(n_rows, n_clusters), dtype=np.int32)\n",
    "soft_accumulator = np.zeros(shape=(n_rows, n_clusters), dtype=np.float32)\n",
    "soft_soft_accumulator = np.zeros(shape=(n_rows, n_clusters), dtype=np.float32)\n",
    "\n",
    "for model_i, labels in enumerate(all_labels):\n",
    "    probs = all_probs[model_i]\n",
    "    \n",
    "    # We create a small n_cluster x n_cluster matrix to store which\n",
    "    # cluster corresponds to which, compared to the known good clustering.\n",
    "    clusters = np.zeros(shape = (n_clusters, n_clusters), dtype=int)\n",
    "    for n1, n2 in zip(labels, known):\n",
    "        clusters[n1, n2] += 1\n",
    "\n",
    "    hard_clusters = np.argmax(clusters, axis=1)\n",
    "    hard_dict = {i: c for i, c in enumerate(hard_clusters)}\n",
    "    hard_result = np.vectorize(hard_dict.__getitem__)(labels)\n",
    "    hard_accumulator[np.arange(n_rows), hard_result] += 1\n",
    "    \n",
    "    # soft\n",
    "    soft_clusters = clusters / np.sum(clusters, axis=1).reshape(-1, 1)\n",
    "    soft_result = soft_clusters[labels]\n",
    "    soft_accumulator += soft_clusters[labels]\n",
    "\n",
    "    # extra soft\n",
    "    soft_soft_accumulator += np.matmul(probs, soft_clusters)"
   ]
  },
  {
   "cell_type": "code",
   "execution_count": 43,
   "id": "6f32f03d",
   "metadata": {},
   "outputs": [
    {
     "name": "stdout",
     "output_type": "stream",
     "text": [
      "(98000,)\n"
     ]
    }
   ],
   "source": [
    "combined_probs = np.array([soft_soft_accumulator/7, net_probs])\n",
    "mean_probs = np.mean(combined_probs, axis=0)\n",
    "predict = np.argmax(mean_probs, axis=1)\n",
    "print(combined_labels.shape)"
   ]
  },
  {
   "cell_type": "code",
   "execution_count": 8,
   "id": "bfada985",
   "metadata": {},
   "outputs": [],
   "source": [
    "predict = np.argmax(soft_soft_accumulator, axis=1)"
   ]
  },
  {
   "cell_type": "code",
   "execution_count": 9,
   "id": "55a2a5e0",
   "metadata": {
    "scrolled": false
   },
   "outputs": [
    {
     "data": {
      "image/png": "[encoded data removed]",
      "text/plain": [
       "<Figure size 1080x720 with 1 Axes>"
      ]
     },
     "metadata": {},
     "output_type": "display_data"
    }
   ],
   "source": [
    "sns.set(rc={'figure.figsize':(15,10)})\n",
    "pl = sns.countplot(x=predict)\n",
    "pl.set_title(\"Distribution of clusters - Best features\")\n",
    "plt.show()"
   ]
  },
  {
   "cell_type": "code",
   "execution_count": 10,
   "id": "437dd819",
   "metadata": {},
   "outputs": [
    {
     "data": {
      "text/html": [
       "<div>\n",
       "<style scoped>\n",
       "    .dataframe tbody tr th:only-of-type {\n",
       "        vertical-align: middle;\n",
       "    }\n",
       "\n",
       "    .dataframe tbody tr th {\n",
       "        vertical-align: top;\n",
       "    }\n",
       "\n",
       "    .dataframe thead th {\n",
       "        text-align: right;\n",
       "    }\n",
       "</style>\n",
       "<table border=\"1\" class=\"dataframe\">\n",
       "  <thead>\n",
       "    <tr style=\"text-align: right;\">\n",
       "      <th></th>\n",
       "      <th>Id</th>\n",
       "      <th>Predicted</th>\n",
       "    </tr>\n",
       "  </thead>\n",
       "  <tbody>\n",
       "    <tr>\n",
       "      <th>0</th>\n",
       "      <td>0</td>\n",
       "      <td>0</td>\n",
       "    </tr>\n",
       "    <tr>\n",
       "      <th>1</th>\n",
       "      <td>1</td>\n",
       "      <td>2</td>\n",
       "    </tr>\n",
       "    <tr>\n",
       "      <th>2</th>\n",
       "      <td>2</td>\n",
       "      <td>4</td>\n",
       "    </tr>\n",
       "    <tr>\n",
       "      <th>3</th>\n",
       "      <td>3</td>\n",
       "      <td>6</td>\n",
       "    </tr>\n",
       "    <tr>\n",
       "      <th>4</th>\n",
       "      <td>4</td>\n",
       "      <td>1</td>\n",
       "    </tr>\n",
       "    <tr>\n",
       "      <th>5</th>\n",
       "      <td>5</td>\n",
       "      <td>1</td>\n",
       "    </tr>\n",
       "    <tr>\n",
       "      <th>6</th>\n",
       "      <td>6</td>\n",
       "      <td>6</td>\n",
       "    </tr>\n",
       "    <tr>\n",
       "      <th>7</th>\n",
       "      <td>7</td>\n",
       "      <td>0</td>\n",
       "    </tr>\n",
       "    <tr>\n",
       "      <th>8</th>\n",
       "      <td>8</td>\n",
       "      <td>2</td>\n",
       "    </tr>\n",
       "    <tr>\n",
       "      <th>9</th>\n",
       "      <td>9</td>\n",
       "      <td>5</td>\n",
       "    </tr>\n",
       "    <tr>\n",
       "      <th>10</th>\n",
       "      <td>10</td>\n",
       "      <td>1</td>\n",
       "    </tr>\n",
       "    <tr>\n",
       "      <th>11</th>\n",
       "      <td>11</td>\n",
       "      <td>5</td>\n",
       "    </tr>\n",
       "    <tr>\n",
       "      <th>12</th>\n",
       "      <td>12</td>\n",
       "      <td>2</td>\n",
       "    </tr>\n",
       "    <tr>\n",
       "      <th>13</th>\n",
       "      <td>13</td>\n",
       "      <td>4</td>\n",
       "    </tr>\n",
       "    <tr>\n",
       "      <th>14</th>\n",
       "      <td>14</td>\n",
       "      <td>1</td>\n",
       "    </tr>\n",
       "    <tr>\n",
       "      <th>15</th>\n",
       "      <td>15</td>\n",
       "      <td>0</td>\n",
       "    </tr>\n",
       "    <tr>\n",
       "      <th>16</th>\n",
       "      <td>16</td>\n",
       "      <td>6</td>\n",
       "    </tr>\n",
       "    <tr>\n",
       "      <th>17</th>\n",
       "      <td>17</td>\n",
       "      <td>5</td>\n",
       "    </tr>\n",
       "    <tr>\n",
       "      <th>18</th>\n",
       "      <td>18</td>\n",
       "      <td>4</td>\n",
       "    </tr>\n",
       "    <tr>\n",
       "      <th>19</th>\n",
       "      <td>19</td>\n",
       "      <td>1</td>\n",
       "    </tr>\n",
       "  </tbody>\n",
       "</table>\n",
       "</div>"
      ],
      "text/plain": [
       "    Id  Predicted\n",
       "0    0          0\n",
       "1    1          2\n",
       "2    2          4\n",
       "3    3          6\n",
       "4    4          1\n",
       "5    5          1\n",
       "6    6          6\n",
       "7    7          0\n",
       "8    8          2\n",
       "9    9          5\n",
       "10  10          1\n",
       "11  11          5\n",
       "12  12          2\n",
       "13  13          4\n",
       "14  14          1\n",
       "15  15          0\n",
       "16  16          6\n",
       "17  17          5\n",
       "18  18          4\n",
       "19  19          1"
      ]
     },
     "execution_count": 10,
     "metadata": {},
     "output_type": "execute_result"
    }
   ],
   "source": [
    "submission['Predicted'] = predict\n",
    "submission.to_csv('bgm_supervised_soft_voting_sixth_rec.csv', index=False)\n",
    "submission.head(20)"
   ]
  },
  {
   "cell_type": "code",
   "execution_count": 11,
   "id": "6ca8497b",
   "metadata": {},
   "outputs": [
    {
     "name": "stdout",
     "output_type": "stream",
     "text": [
      "Same: 97695 - Diversi: 305\n"
     ]
    }
   ],
   "source": [
    "best = pd.read_csv(\"bgm_supervised_classifier_soft_voting_fifth_rec.csv\", usecols=['Predicted']).values\n",
    "actual = submission['Predicted'].values\n",
    "\n",
    "same = 0\n",
    "notsame = 0\n",
    "for a, b in zip(best, actual):\n",
    "    if a==b:\n",
    "        same+=1\n",
    "    else:\n",
    "        notsame+=1\n",
    "        \n",
    "print(f\"Same: {same} - Diversi: {notsame}\")"
   ]
  }
 ],
 "metadata": {
  "kernelspec": {
   "display_name": "unsupervised",
   "language": "python",
   "name": "unsupervised"
  },
  "language_info": {
   "codemirror_mode": {
    "name": "ipython",
    "version": 3
   },
   "file_extension": ".py",
   "mimetype": "text/x-python",
   "name": "python",
   "nbconvert_exporter": "python",
   "pygments_lexer": "ipython3",
   "version": "3.10.4"
  }
 },
 "nbformat": 4,
 "nbformat_minor": 5
}
