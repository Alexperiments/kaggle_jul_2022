{
 "cells": [
  {
   "cell_type": "markdown",
   "id": "fe66b195",
   "metadata": {},
   "source": [
    "## Unsupervised BGM and soft voting for initial labelling (Score ~ 60.7%)"
   ]
  },
  {
   "cell_type": "code",
   "execution_count": 1,
   "id": "7aebbb53",
   "metadata": {},
   "outputs": [],
   "source": [
    "import numpy as np\n",
    "import pandas as pd\n",
    "from tqdm import tqdm\n",
    "from sklearn.mixture import GaussianMixture, BayesianGaussianMixture\n",
    "from sklearn.preprocessing import PowerTransformer\n",
    "import pylab as pl\n",
    "from sklego.mixture import BayesianGMMClassifier"
   ]
  },
  {
   "cell_type": "code",
   "execution_count": 3,
   "id": "ee7b2258",
   "metadata": {},
   "outputs": [],
   "source": [
    "n_rows = 98000\n",
    "n_clusters = 7\n",
    "\n",
    "known = pd.read_csv(\"reference_submission.csv\", index_col=0).iloc[:, 0].values\n",
    "\n",
    "data = pd.read_csv('data.csv', index_col=0)\n",
    "useful_cols = ['f_07','f_08','f_09','f_10','f_11','f_12','f_13',\n",
    "             'f_22','f_23','f_24','f_25','f_26','f_27','f_28']\n",
    "data = data[useful_cols]\n",
    "\n",
    "data = PowerTransformer().fit_transform(data)"
   ]
  },
  {
   "cell_type": "code",
   "execution_count": 3,
   "id": "775cef72",
   "metadata": {},
   "outputs": [
    {
     "name": "stderr",
     "output_type": "stream",
     "text": [
      "100%|██████████████████████████████████████████████████████████████████████████████████| 20/20 [11:07<00:00, 33.35s/it]\n"
     ]
    }
   ],
   "source": [
    "all_labels = []\n",
    "all_probs = []\n",
    "\n",
    "base = 1301\n",
    "for seed in tqdm(range(20)):\n",
    "    np.random.seed(seed + base * 20)\n",
    "    subspace = data[np.random.random(size=(n_rows,)) < 0.5, :]\n",
    " \n",
    "    gmm = BayesianGaussianMixture(\n",
    "            n_components = n_clusters,\n",
    "            random_state = seed + base * 20,\n",
    "            tol = 0.001,  # Actually, since we're ensembling we might want a higher tol\n",
    "            max_iter = 200, # and a low max_iter! Because noise is our friend.\n",
    "            n_init = 4)\n",
    "    gmm.fit(subspace)\n",
    "\n",
    "    all_labels.append(gmm.predict(data))\n",
    "    all_probs.append(gmm.predict_proba(data))"
   ]
  },
  {
   "cell_type": "code",
   "execution_count": 4,
   "id": "0b0822a7",
   "metadata": {},
   "outputs": [],
   "source": [
    "hard_accumulator = np.zeros(shape=(n_rows, n_clusters), dtype=np.int32)\n",
    "soft_accumulator = np.zeros(shape=(n_rows, n_clusters), dtype=np.float32)\n",
    "soft_soft_accumulator = np.zeros(shape=(n_rows, n_clusters), dtype=np.float32)\n",
    "\n",
    "for model_i, labels in enumerate(all_labels):\n",
    "    probs = all_probs[model_i]\n",
    "    \n",
    "    # We create a small n_cluster x n_cluster matrix to store which\n",
    "    # cluster corresponds to which, compared to the known good clustering.\n",
    "    clusters = np.zeros(shape = (n_clusters, n_clusters), dtype=int)\n",
    "    for n1, n2 in zip(labels, known):\n",
    "        clusters[n1, n2] += 1\n",
    "\n",
    "    hard_clusters = np.argmax(clusters, axis=1)\n",
    "    hard_dict = {i: c for i, c in enumerate(hard_clusters)}\n",
    "    hard_result = np.vectorize(hard_dict.__getitem__)(labels)\n",
    "    hard_accumulator[np.arange(n_rows), hard_result] += 1\n",
    "    \n",
    "    # soft\n",
    "    soft_clusters = clusters / np.sum(clusters, axis=1).reshape(-1, 1)\n",
    "    soft_result = soft_clusters[labels]\n",
    "    soft_accumulator += soft_clusters[labels]\n",
    "\n",
    "    # extra soft\n",
    "    soft_soft_accumulator += np.matmul(probs, soft_clusters)"
   ]
  },
  {
   "cell_type": "code",
   "execution_count": 5,
   "id": "61081889",
   "metadata": {},
   "outputs": [],
   "source": [
    "# hard_result = np.argmax(hard_accumulator, axis=1)\n",
    "# soft_result = np.argmax(soft_accumulator, axis=1)\n",
    "soft_soft_result = np.argmax(soft_soft_accumulator, axis=1)\n",
    "\n",
    "pd.DataFrame(soft_soft_result).to_csv('bgm_unsupervised_submission.csv', index_label='Id', header=['Predicted'])"
   ]
  },
  {
   "cell_type": "markdown",
   "id": "1a0359a2",
   "metadata": {},
   "source": [
    "## Supervised BGM classifier using the best predictions"
   ]
  },
  {
   "cell_type": "code",
   "execution_count": 6,
   "id": "c561aaca",
   "metadata": {},
   "outputs": [],
   "source": [
    "import pandas as pd\n",
    "import numpy as np\n",
    "from tqdm import tqdm\n",
    "\n",
    "# For Visualization\n",
    "import matplotlib.pyplot as plt\n",
    "import seaborn as sns\n",
    "\n",
    "from sklearn.mixture import BayesianGaussianMixture\n",
    "from sklego.mixture import BayesianGMMClassifier\n",
    "from sklearn.preprocessing import PowerTransformer"
   ]
  },
  {
   "cell_type": "code",
   "execution_count": 11,
   "id": "b264597b",
   "metadata": {},
   "outputs": [],
   "source": [
    "data = pd.read_csv(\"data.csv\", index_col='id')\n",
    "submission = pd.read_csv(\"sample_submission.csv\")\n",
    "\n",
    "pred_test = pd.read_csv(\"bgm_unsupervised_submission.csv\", usecols=['Predicted']).values\n",
    "pred_test = [a.item() for a in pred_test]\n",
    "pred_test = np.array(pred_test)\n",
    "\n",
    "known = pd.read_csv(\"bgm_supervised_classifier.csv\", usecols=['Predicted']).values\n",
    "\n",
    "useful_cols = ['f_07','f_08','f_09','f_10','f_11','f_12','f_13',\n",
    "             'f_22','f_23','f_24','f_25','f_26','f_27','f_28']\n",
    "\n",
    "data = data[useful_cols]\n",
    "data = PowerTransformer().fit_transform(data)"
   ]
  },
  {
   "cell_type": "code",
   "execution_count": 4,
   "id": "f3d166df",
   "metadata": {},
   "outputs": [],
   "source": [
    "X = np.array(data)\n",
    "y = np.array(pred_test)"
   ]
  },
  {
   "cell_type": "code",
   "execution_count": null,
   "id": "cebdbcf1",
   "metadata": {},
   "outputs": [
    {
     "name": "stderr",
     "output_type": "stream",
     "text": [
      " 20%|█████████████████████                                                                                    | 4/20 [03:12<12:41, 47.57s/it]C:\\Users\\Alessandro\\anaconda3\\envs\\unsupervised\\lib\\site-packages\\sklearn\\mixture\\_base.py:286: ConvergenceWarning: Initialization 3 did not converge. Try different init parameters, or increase max_iter, tol or check for degenerate data.\n",
      "  warnings.warn(\n",
      " 40%|██████████████████████████████████████████                                                               | 8/20 [06:51<10:41, 53.43s/it]C:\\Users\\Alessandro\\anaconda3\\envs\\unsupervised\\lib\\site-packages\\sklearn\\mixture\\_base.py:286: ConvergenceWarning: Initialization 3 did not converge. Try different init parameters, or increase max_iter, tol or check for degenerate data.\n",
      "  warnings.warn(\n",
      " 65%|███████████████████████████████████████████████████████████████████▌                                    | 13/20 [11:22<06:20, 54.41s/it]"
     ]
    }
   ],
   "source": [
    "all_labels = []\n",
    "all_probs = []\n",
    "\n",
    "for seed in tqdm(range(20)):\n",
    "    np.random.seed(seed + 1001 * 20)\n",
    "    bgm = BayesianGMMClassifier(\n",
    "        n_components=7,\n",
    "        random_state = seed,\n",
    "        tol =1e-3,\n",
    "        covariance_type = 'full',\n",
    "        max_iter = 200,\n",
    "        n_init=3,\n",
    "        init_params='k-means++'\n",
    "    )\n",
    "\n",
    "    # fitting and probability prediction\n",
    "    bgm.fit(X,y)\n",
    "    all_labels.append(bgm.predict(X))\n",
    "    all_probs.append(bgm.predict_proba(X))"
   ]
  },
  {
   "cell_type": "code",
   "execution_count": 12,
   "id": "a4d5752d",
   "metadata": {},
   "outputs": [],
   "source": [
    "n_rows = len(data)\n",
    "n_clusters = 7\n",
    "\n",
    "hard_accumulator = np.zeros(shape=(n_rows, n_clusters), dtype=np.int32)\n",
    "soft_accumulator = np.zeros(shape=(n_rows, n_clusters), dtype=np.float32)\n",
    "soft_soft_accumulator = np.zeros(shape=(n_rows, n_clusters), dtype=np.float32)\n",
    "\n",
    "for model_i, labels in enumerate(all_labels):\n",
    "    probs = all_probs[model_i]\n",
    "    \n",
    "    # We create a small n_cluster x n_cluster matrix to store which\n",
    "    # cluster corresponds to which, compared to the known good clustering.\n",
    "    clusters = np.zeros(shape = (n_clusters, n_clusters), dtype=int)\n",
    "    for n1, n2 in zip(labels, known):\n",
    "        clusters[n1, n2] += 1\n",
    "\n",
    "    hard_clusters = np.argmax(clusters, axis=1)\n",
    "    hard_dict = {i: c for i, c in enumerate(hard_clusters)}\n",
    "    hard_result = np.vectorize(hard_dict.__getitem__)(labels)\n",
    "    hard_accumulator[np.arange(n_rows), hard_result] += 1\n",
    "    \n",
    "    # soft\n",
    "    soft_clusters = clusters / np.sum(clusters, axis=1).reshape(-1, 1)\n",
    "    soft_result = soft_clusters[labels]\n",
    "    soft_accumulator += soft_clusters[labels]\n",
    "\n",
    "    # extra soft\n",
    "    soft_soft_accumulator += np.matmul(probs, soft_clusters)"
   ]
  },
  {
   "cell_type": "code",
   "execution_count": 13,
   "id": "f9f1e976",
   "metadata": {},
   "outputs": [],
   "source": [
    "predict = np.argmax(soft_soft_accumulator, axis=1)"
   ]
  },
  {
   "cell_type": "code",
   "execution_count": 14,
   "id": "55a2a5e0",
   "metadata": {
    "scrolled": false
   },
   "outputs": [
    {
     "data": {
      "image/png": "[encoded data removed]",
      "text/plain": [
       "<Figure size 1080x720 with 1 Axes>"
      ]
     },
     "metadata": {},
     "output_type": "display_data"
    }
   ],
   "source": [
    "sns.set(rc={'figure.figsize':(15,10)})\n",
    "pl = sns.countplot(x=predict)\n",
    "pl.set_title(\"Distribution of clusters - Best features\")\n",
    "plt.show()"
   ]
  },
  {
   "cell_type": "code",
   "execution_count": 15,
   "id": "437dd819",
   "metadata": {},
   "outputs": [
    {
     "data": {
      "text/html": [
       "<div>\n",
       "<style scoped>\n",
       "    .dataframe tbody tr th:only-of-type {\n",
       "        vertical-align: middle;\n",
       "    }\n",
       "\n",
       "    .dataframe tbody tr th {\n",
       "        vertical-align: top;\n",
       "    }\n",
       "\n",
       "    .dataframe thead th {\n",
       "        text-align: right;\n",
       "    }\n",
       "</style>\n",
       "<table border=\"1\" class=\"dataframe\">\n",
       "  <thead>\n",
       "    <tr style=\"text-align: right;\">\n",
       "      <th></th>\n",
       "      <th>Id</th>\n",
       "      <th>Predicted</th>\n",
       "    </tr>\n",
       "  </thead>\n",
       "  <tbody>\n",
       "    <tr>\n",
       "      <th>0</th>\n",
       "      <td>0</td>\n",
       "      <td>0</td>\n",
       "    </tr>\n",
       "    <tr>\n",
       "      <th>1</th>\n",
       "      <td>1</td>\n",
       "      <td>2</td>\n",
       "    </tr>\n",
       "    <tr>\n",
       "      <th>2</th>\n",
       "      <td>2</td>\n",
       "      <td>4</td>\n",
       "    </tr>\n",
       "    <tr>\n",
       "      <th>3</th>\n",
       "      <td>3</td>\n",
       "      <td>6</td>\n",
       "    </tr>\n",
       "    <tr>\n",
       "      <th>4</th>\n",
       "      <td>4</td>\n",
       "      <td>1</td>\n",
       "    </tr>\n",
       "    <tr>\n",
       "      <th>5</th>\n",
       "      <td>5</td>\n",
       "      <td>1</td>\n",
       "    </tr>\n",
       "    <tr>\n",
       "      <th>6</th>\n",
       "      <td>6</td>\n",
       "      <td>6</td>\n",
       "    </tr>\n",
       "    <tr>\n",
       "      <th>7</th>\n",
       "      <td>7</td>\n",
       "      <td>0</td>\n",
       "    </tr>\n",
       "    <tr>\n",
       "      <th>8</th>\n",
       "      <td>8</td>\n",
       "      <td>2</td>\n",
       "    </tr>\n",
       "    <tr>\n",
       "      <th>9</th>\n",
       "      <td>9</td>\n",
       "      <td>5</td>\n",
       "    </tr>\n",
       "    <tr>\n",
       "      <th>10</th>\n",
       "      <td>10</td>\n",
       "      <td>1</td>\n",
       "    </tr>\n",
       "    <tr>\n",
       "      <th>11</th>\n",
       "      <td>11</td>\n",
       "      <td>5</td>\n",
       "    </tr>\n",
       "    <tr>\n",
       "      <th>12</th>\n",
       "      <td>12</td>\n",
       "      <td>0</td>\n",
       "    </tr>\n",
       "    <tr>\n",
       "      <th>13</th>\n",
       "      <td>13</td>\n",
       "      <td>4</td>\n",
       "    </tr>\n",
       "    <tr>\n",
       "      <th>14</th>\n",
       "      <td>14</td>\n",
       "      <td>1</td>\n",
       "    </tr>\n",
       "    <tr>\n",
       "      <th>15</th>\n",
       "      <td>15</td>\n",
       "      <td>0</td>\n",
       "    </tr>\n",
       "    <tr>\n",
       "      <th>16</th>\n",
       "      <td>16</td>\n",
       "      <td>6</td>\n",
       "    </tr>\n",
       "    <tr>\n",
       "      <th>17</th>\n",
       "      <td>17</td>\n",
       "      <td>5</td>\n",
       "    </tr>\n",
       "    <tr>\n",
       "      <th>18</th>\n",
       "      <td>18</td>\n",
       "      <td>4</td>\n",
       "    </tr>\n",
       "    <tr>\n",
       "      <th>19</th>\n",
       "      <td>19</td>\n",
       "      <td>1</td>\n",
       "    </tr>\n",
       "  </tbody>\n",
       "</table>\n",
       "</div>"
      ],
      "text/plain": [
       "    Id  Predicted\n",
       "0    0          0\n",
       "1    1          2\n",
       "2    2          4\n",
       "3    3          6\n",
       "4    4          1\n",
       "5    5          1\n",
       "6    6          6\n",
       "7    7          0\n",
       "8    8          2\n",
       "9    9          5\n",
       "10  10          1\n",
       "11  11          5\n",
       "12  12          0\n",
       "13  13          4\n",
       "14  14          1\n",
       "15  15          0\n",
       "16  16          6\n",
       "17  17          5\n",
       "18  18          4\n",
       "19  19          1"
      ]
     },
     "execution_count": 15,
     "metadata": {},
     "output_type": "execute_result"
    }
   ],
   "source": [
    "submission['Predicted'] = predict\n",
    "submission.to_csv('bgm_supervised_classifier_soft_voting.csv', index=False)\n",
    "submission.head(20)"
   ]
  }
 ],
 "metadata": {
  "kernelspec": {
   "display_name": "unsupervised",
   "language": "python",
   "name": "unsupervised"
  },
  "language_info": {
   "codemirror_mode": {
    "name": "ipython",
    "version": 3
   },
   "file_extension": ".py",
   "mimetype": "text/x-python",
   "name": "python",
   "nbconvert_exporter": "python",
   "pygments_lexer": "ipython3",
   "version": "3.10.4"
  }
 },
 "nbformat": 4,
 "nbformat_minor": 5
}
